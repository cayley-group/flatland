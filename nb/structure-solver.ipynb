{
 "cells": [
  {
   "cell_type": "markdown",
   "id": "lucky-accommodation",
   "metadata": {},
   "source": [
    "## Structure solving as meta-optimization (demo)\n",
    "\n",
    "This is going to be so cool!\n",
    "\n",
    "In the work of Senior et al. (2019), Yang et al. (2020), and others, static optimization constraints are predicted then provided to a static, general purpose optimization algorithm (with some amount of manual tuning of optimization parameters to the specific task).\n",
    "\n",
    "Fascinatingly, there is a broad modern literature on the use of neural networks to learn to optimize. For example, Andrychowicz et al. (2016) demonstrate the learning of a domain-specific optimization algorithm that subsequently was shown to out-perform all of the best in class optimizers available for that problem (that had been a legacy of painstaking effort over more than a decade).\n",
    "\n",
    "This is amazing because there's the potential to learn better and better optimizers from data which can in turn save time and money for future work - but it's also quite interesting to think of how an optimizer might learn to become specialized to individual optimization problems (such as navigating the energy landscape of a protein structure).\n",
    "\n",
    "<img src=\"https://upload.wikimedia.org/wikipedia/commons/9/91/Folding_funnel_schematic.svg\" alt=\"Folding funnel schematic.svg\" height=\"480\" width=\"463\">\n",
    "\n",
    "(Image [CC-BY-SA 3.0](https://creativecommons.org/licenses/by-sa/3.0) / [Thomas Splettstoesser](commons.wikimedia.org/wiki/User:Splette); [original](https://commons.wikimedia.org/wiki/File:Folding_funnel_schematic.svg#/media/File:Folding_funnel_schematic.svg))\n",
    "\n"
   ]
  },
  {
   "cell_type": "markdown",
   "id": "requested-kernel",
   "metadata": {},
   "source": [
    "### Work in progress\n",
    "\n",
    "The plan is to modify the [GraphNetEncoder](https://github.com/google/jax-md/blob/master/jax_md/nn.py#L650) and [EnergyGraphNet](https://github.com/google/jax-md/blob/master/jax_md/energy.py#L944) from jax-md to also accept as input evolutionary data and not to predict a single energy value but to predict several things including:\n",
    "\n",
    "1. A future conformation,\n",
    "2. A distance matrix,\n",
    "3. Bond angles, and\n",
    "4. Compound interaction strengths\n",
    "\n",
    "The simplest way to include (1) in a loss seems to be to have one of the model outputs be a coordinate for each node that are passed to a conventional jax-md energy function which is then used to incentivized input conformations being mapped to output conformations with lower energy.\n",
    "\n",
    "It looks like (2) and (3) would be straightforward if the model returned edge representation in some form. It's possible to for now also accomplish (4) in this way.\n",
    "\n",
    "The philosophy regarding (4) is that when folding a new protein you could obtain its iteraction profile fairly easily and if your model was previously trained to use interaction profiles as a guide (in the same way as using evolutionary data as a guide) might then be able to solve the structure more easily. Succeeding with that means architecting the model in a way consistent with that use case.\n",
    "\n",
    "This might be done in a variety of ways. In the spirit of our learned optimizer, we might wish to learn an optimizer that not only minimizes energy but predicts conformations that are more and more consistent with interaction profiles with a set of compounds. To do this it seems we may need to run a simulator of those structure/compound interactions (which would be computationally expensive but not impossible, especially for important structures). The tendency of the learned energy minimizer to minimize energy could be fine-tuned based on the interactions of produced structures with compounds.\n",
    "\n",
    "Or, we might consider the compound interactions as simply a guide to better learning how to extract information from evolutionary data and ignore their predictions at structure inference time.\n",
    "\n",
    "Alternatively, we might consider compound-polymer interaction strengths as a type of input, like evolutionary data, that need to be correctly encoded but need not be predicted by the network - it simply is yet another kind of input information that can help the model learn to predict low-energy structures.\n",
    "\n",
    "It's possible we might want to synergize with the energy-predicting approach of jax-md given that the task of learning to predict structures of lower energy seems closely related to that of computing energies - so training node functions to compute partial energies might be nice pre-training for their learning to perform position updates that reduce energy.\n"
   ]
  },
  {
   "cell_type": "markdown",
   "id": "ceramic-complex",
   "metadata": {},
   "source": [
    "### Setup\n",
    "\n",
    "Ensure the most recent version of Flatland is installed."
   ]
  },
  {
   "cell_type": "code",
   "execution_count": null,
   "id": "close-teens",
   "metadata": {},
   "outputs": [],
   "source": [
    "\n",
    "!pip install git+git://github.com/cayley-group/flatland.git --quiet\n"
   ]
  },
  {
   "cell_type": "markdown",
   "id": "genuine-poison",
   "metadata": {},
   "source": [
    "### Loading examples\n",
    "\n",
    "Here we use a [Tensorflow Datasets](https://github.com/tensorflow/datasets) definition of a dataset generated using the Flatland environment. This provides a simplified interface to returning a [tf.data](https://www.tensorflow.org/guide/data) Dataset which has a variety of convenient methods for handling the input example stream (e.g. for batching, shuffling, caching, and pre-fetching).\n",
    "\n",
    "Let's load an example from the \"flatland_mock\" dataset to see what the structure and data type of examples will be.\n"
   ]
  },
  {
   "cell_type": "code",
   "execution_count": 2,
   "id": "downtown-wallace",
   "metadata": {},
   "outputs": [],
   "source": [
    "\n",
    "import tensorflow as tf\n",
    "import tensorflow_datasets as tfds\n",
    "import flatland.dataset\n",
    "\n",
    "ds = tfds.load('flatland_mock', split=\"train\")\n",
    "assert isinstance(ds, tf.data.Dataset)\n",
    "\n",
    "ds = ds.take(1).cache().repeat()\n",
    "for example in tfds.as_numpy(ds):\n",
    "  break\n"
   ]
  },
  {
   "cell_type": "code",
   "execution_count": 3,
   "id": "designed-petersburg",
   "metadata": {},
   "outputs": [
    {
     "data": {
      "text/plain": [
       "{'aa_sequence': array([2, 2, 3, 1, 1, 1, 0, 2, 1, 0], dtype=int32),\n",
       " 'alignments': <tf.RaggedTensor [[2, 0, 3, 2, 1, 2, 2, 1, 3, 2], [2, 3, 0, 3, 2, 1, 2, 3, 1, 1], [0, 3, 2, 2, 2, 0, 1, 2, 1, 2], [2, 2, 0, 2, 0, 1, 2, 3, 2, 0], [0, 3, 3, 0, 2, 2, 3, 1, 1, 3]]>,\n",
       " 'compound_affinity': array([0.2486111 , 0.54139775, 0.73639923, 0.69151855, 0.24467154,\n",
       "        0.11261518, 0.82251084, 0.9783993 , 0.4251778 , 0.55030143,\n",
       "        0.8410047 , 0.2991653 , 0.62026346, 0.16084638, 0.7104868 ,\n",
       "        0.34349436, 0.85450906, 0.839869  , 0.05980841, 0.2693819 ,\n",
       "        0.8683603 , 0.6705369 , 0.329811  , 0.90815157, 0.4958696 ,\n",
       "        0.8589536 , 0.26986575, 0.35537535, 0.83140236, 0.78714424,\n",
       "        0.47348848, 0.5145506 , 0.0813486 , 0.8461258 , 0.76298654,\n",
       "        0.0742124 , 0.73888475, 0.07325479, 0.8835788 , 0.64374226,\n",
       "        0.8619347 , 0.2644174 , 0.6814376 , 0.8745566 , 0.7278718 ,\n",
       "        0.15643644, 0.65877795, 0.62081593, 0.20465161, 0.5998772 ,\n",
       "        0.8594883 , 0.9285772 , 0.04105693, 0.35020137, 0.45674145,\n",
       "        0.58115804, 0.50687945, 0.9498407 , 0.18405926, 0.23405349,\n",
       "        0.68385506, 0.5596968 , 0.9327528 , 0.4556754 , 0.9437738 ,\n",
       "        0.48201153, 0.329896  , 0.93245184, 0.32324898, 0.74738044,\n",
       "        0.5660095 , 0.6115068 , 0.0335509 , 0.23959865, 0.6107455 ,\n",
       "        0.44030598, 0.8486737 , 0.6841933 , 0.5344043 , 0.15478504,\n",
       "        0.77490735, 0.28591272, 0.59560394, 0.02573355, 0.64012456,\n",
       "        0.5019215 , 0.9353211 , 0.5700972 , 0.4434144 , 0.63644964,\n",
       "        0.33448797, 0.50072855, 0.6959625 , 0.41124704, 0.77728146,\n",
       "        0.8995181 , 0.23796786, 0.8169271 , 0.25172108, 0.4400752 ],\n",
       "       dtype=float32),\n",
       " 'solved_angles': array([0.6265682 , 0.8032349 , 0.36976105, 0.70899904, 0.6286327 ,\n",
       "        0.8696265 , 0.21226704, 0.623189  , 0.819028  ], dtype=float32),\n",
       " 'solved_distances': array([0.51802087, 0.83663803, 0.90739805, 0.06355137, 0.43673024,\n",
       "        0.6421173 , 0.06035424, 0.6925911 , 0.43916085, 0.30478528,\n",
       "        0.8738018 , 0.8881098 , 0.78143364, 0.11732972, 0.36178595,\n",
       "        0.41104034, 0.10675798, 0.99336815, 0.27146292, 0.678551  ,\n",
       "        0.13929205, 0.14629042, 0.8072648 , 0.54278624, 0.19541976,\n",
       "        0.15909858, 0.05082388, 0.9663785 , 0.6767565 , 0.81048167,\n",
       "        0.00353719, 0.07345029, 0.847795  , 0.08026502, 0.7802804 ,\n",
       "        0.99370235, 0.29981124, 0.5070252 , 0.9424312 , 0.579451  ,\n",
       "        0.74866   , 0.9797173 , 0.252836  , 0.42911246, 0.87834156,\n",
       "        0.37957746, 0.46611267, 0.9071737 , 0.45821038, 0.48615777,\n",
       "        0.99675703, 0.02443117, 0.680649  , 0.6010609 , 0.8908445 ,\n",
       "        0.44413456, 0.47867215, 0.34994   , 0.57836246, 0.4266865 ,\n",
       "        0.04315865, 0.01325975, 0.15877129, 0.33073413, 0.5392076 ,\n",
       "        0.5141753 , 0.39151466, 0.464517  , 0.3457813 , 0.3477133 ,\n",
       "        0.2489917 , 0.17120327, 0.8995316 , 0.16244651, 0.9646562 ,\n",
       "        0.6385752 , 0.12603281, 0.9205508 , 0.813044  , 0.92702246,\n",
       "        0.9960715 , 0.6016686 , 0.28267327, 0.72821337, 0.4740816 ,\n",
       "        0.46114263, 0.99530226, 0.87216485, 0.33539733, 0.5916218 ,\n",
       "        0.27654663, 0.59393954, 0.7000872 , 0.00627017, 0.45772508,\n",
       "        0.445043  , 0.4968707 , 0.11420741, 0.5357903 , 0.29126132],\n",
       "       dtype=float32),\n",
       " 'structure_energy': 0.15552843,\n",
       " 'structure_x': array([0.04459571, 0.6918467 , 0.07229305, 0.43494523, 0.27115342,\n",
       "        0.62396735, 0.565981  , 0.4164568 , 0.47283223, 0.01681094],\n",
       "       dtype=float32),\n",
       " 'structure_y': array([0.34735212, 0.2537569 , 0.8704505 , 0.84838426, 0.49052244,\n",
       "        0.5024276 , 0.07278219, 0.49582323, 0.52595687, 0.2803414 ],\n",
       "       dtype=float32)}"
      ]
     },
     "execution_count": 3,
     "metadata": {},
     "output_type": "execute_result"
    }
   ],
   "source": [
    "example"
   ]
  }
 ],
 "metadata": {
  "environment": {
   "name": "common-cpu.mnightly-2021-01-20-debian-10-test",
   "type": "gcloud",
   "uri": "gcr.io/deeplearning-platform-release/base-cpu:mnightly-2021-01-20-debian-10-test"
  },
  "kernelspec": {
   "display_name": "Python 3",
   "language": "python",
   "name": "python3"
  },
  "language_info": {
   "codemirror_mode": {
    "name": "ipython",
    "version": 3
   },
   "file_extension": ".py",
   "mimetype": "text/x-python",
   "name": "python",
   "nbconvert_exporter": "python",
   "pygments_lexer": "ipython3",
   "version": "3.7.9"
  }
 },
 "nbformat": 4,
 "nbformat_minor": 5
}
