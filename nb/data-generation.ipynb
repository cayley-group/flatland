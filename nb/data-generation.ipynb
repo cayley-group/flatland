{
 "cells": [
  {
   "cell_type": "markdown",
   "id": "administrative-pleasure",
   "metadata": {},
   "source": [
    "# Data Generation with Flatland\n",
    "\n",
    "This notebook begins to outline how training datasets will be generated in Flatland. This notebook will evolve into a documentation of how to use the tool through a more formal and simplified API.\n",
    "\n",
    "### Here's the idea\n",
    "\n",
    "Some modern protein structure prediction approaches are a little bit complicated to implement. That's why it seems useful to have a simulator that can generate data at least of the same structure that researchers seek to use in such systems. Over time, these simulators can be improved progressively to add some minimal level of realism that should be helpful for initial model debugging. This might include for example modifying simulation parameters to enable a model to train effectively then returning to the more complex form once the simpler problem has been solved. Thus we hope to create a much more smooth path to solving the larger problem than is often followed by those seeking to solve it directly.\n",
    "\n",
    "Further, even when training larger systems on real data it will be important that system components remain integrated and both the system and its individual components continue to function correctly. Simple toy test cases are often used for this purpose in software test engineering. But in the case of ML software engineering, sometimes it helps if these are slightly realistic. Even further, we are interested in understanding the potential of various additional sources of data to enhance the performance of structure prediction systems.\n",
    "\n",
    "Below we will evolve populations of polymers using a trivially simple fitness metric and in the course of that retain a \"genetic history\" of the evolved populations. Then, we will compute structures for these polymers using Jax MD. For each \"solved\" structure we will compute a pairwise \"residue\" distance matrix and a vector of \"bond\" angles. Lastly, we will simulate a compound-protein interaction experiment again using Jax MD.\n"
   ]
  },
  {
   "cell_type": "markdown",
   "id": "greater-rotation",
   "metadata": {},
   "source": [
    "### Setup\n",
    "\n",
    "Ensure the most recent version of Flatland in installed."
   ]
  },
  {
   "cell_type": "code",
   "execution_count": null,
   "id": "above-intelligence",
   "metadata": {},
   "outputs": [],
   "source": [
    "\n",
    "!pip install git+git://github.com/cayley-group/flatland.git --quiet\n"
   ]
  },
  {
   "cell_type": "code",
   "execution_count": 31,
   "id": "three-bloom",
   "metadata": {},
   "outputs": [],
   "source": [
    "\n",
    "from jax import jit, random, vmap\n",
    "import jax.numpy as jnp\n",
    "\n",
    "from flatland import evolution as evo\n",
    "from flatland import datagen\n",
    "\n",
    "from google.cloud import storage\n",
    "\n",
    "import os\n",
    "\n",
    "def upload_blob(bucket_name, source_file_name, destination_blob_name):\n",
    "    \"\"\"Uploads a file to the bucket.\"\"\"\n",
    "\n",
    "    storage_client = storage.Client()\n",
    "    bucket = storage_client.bucket(bucket_name)\n",
    "    blob = bucket.blob(destination_blob_name)\n",
    "\n",
    "    blob.upload_from_filename(source_file_name)\n",
    "\n",
    "    print(\n",
    "        \"File {} uploaded to {}.\".format(\n",
    "            source_file_name, destination_blob_name\n",
    "        )\n",
    "    )\n",
    "\n",
    "def get_destination_blob_path(filename, test_train_validation,\n",
    "                              dataset_name, dataset_version):\n",
    "  \"\"\"Return a blob path.\"\"\"\n",
    "  ttv = [\"test\", \"train\", \"validation\"]\n",
    "  assert test_train_validation in ttv\n",
    "  return os.path.join(dataset_name, dataset_version,\n",
    "                      test_train_validation, filename)\n"
   ]
  },
  {
   "cell_type": "markdown",
   "id": "adverse-penalty",
   "metadata": {},
   "source": [
    "## Configuration\n",
    "\n",
    "Here we'll configure our evolutionary simulations. We'll configure these to be very simple given that this is a demo - polymers of length 10 with elements from an alphabet of size 3. And just 10 population members for only 2 generations."
   ]
  },
  {
   "cell_type": "code",
   "execution_count": 32,
   "id": "absent-prescription",
   "metadata": {},
   "outputs": [],
   "source": [
    "\n",
    "alphabet_size = 3\n",
    "population_size = 10\n",
    "genome_length = 10\n",
    "mutation_rate = 0.15\n",
    "num_generations = 2\n",
    "\n",
    "bucket_name = \"test-1234-abcd\"\n",
    "dataset_name = \"flatland-vsmall\"\n",
    "dataset_version = \"0.0.1\"\n"
   ]
  },
  {
   "cell_type": "markdown",
   "id": "rational-breathing",
   "metadata": {},
   "source": [
    "## Run simulations\n",
    "\n",
    "Now we'll evolve our polymer populations using a trivial fitness measure - i.e. how closely the average of the integer encodings of polymer elements come to 1.0! Here we could specify the fitness_fn to be one that simulates the polymers, computes their energy, and simply considered the simulated polymer energy to be a measure of fitness (energies are more negative for more energetically-stable strutures). Or likewise we could simulate the interaction of polymers with a set of compounds and define fitness as the selectivity of systems to be low energy only when including one or more target compounds.\n"
   ]
  },
  {
   "cell_type": "code",
   "execution_count": 25,
   "id": "preliminary-bailey",
   "metadata": {},
   "outputs": [],
   "source": [
    "from functools import partial"
   ]
  },
  {
   "cell_type": "code",
   "execution_count": 26,
   "id": "basic-newspaper",
   "metadata": {},
   "outputs": [],
   "source": [
    "\n",
    "def fitness_mean_value_target(v, target_value=1.0):\n",
    "  return 1 - jnp.abs(jnp.mean(v) - target_value) / target_value\n",
    "\n",
    "@jit\n",
    "def batched_fitness_mean_value_target(population):\n",
    "  return vmap(fitness_mean_value_target)(population)\n",
    "\n",
    "\"\"\"\n",
    "Or,\n",
    "\n",
    "def fitness_polymer_min_energy(v):\n",
    "  return compute_energy(simulate(v))\n",
    "\n",
    "@jit\n",
    "def batched_polymer_min_energy(population):\n",
    "  return vmap(fitness_polymer_min_energy)(population)\n",
    "\n",
    "\"\"\"\n",
    "\n",
    "key = random.PRNGKey(1)\n",
    "\n",
    "# Construct a partial for the evolution function since this\n",
    "# will be the same for train, test, and eval\n",
    "evolve = partial(evo.evolve_with_mutation,\n",
    "  fitness_fn=batched_fitness_mean_value_target,\n",
    "  num_generations=num_generations,\n",
    "  pop_size=population_size,\n",
    "  genome_length=genome_length,\n",
    "  mutation_rate=mutation_rate,\n",
    "  alphabet_size=alphabet_size,\n",
    "  keep_full_population_history=True)\n"
   ]
  },
  {
   "cell_type": "markdown",
   "id": "waiting-package",
   "metadata": {},
   "source": [
    "#### Evolve the training population\n",
    "\n",
    "In the future we could scale this up arbitrarily by doing as many of these simulations in parallel as we like and aggregating the result. This is analagous to simulating the independent evolution of polymer families that are evolutionarily distant."
   ]
  },
  {
   "cell_type": "code",
   "execution_count": 13,
   "id": "possible-wings",
   "metadata": {},
   "outputs": [
    {
     "name": "stdout",
     "output_type": "stream",
     "text": [
      "Current average fitness: 0.57\n"
     ]
    }
   ],
   "source": [
    "\n",
    "key, subkey = random.split(key)\n",
    "_, _, train_population = evolve(key)\n"
   ]
  },
  {
   "cell_type": "code",
   "execution_count": 14,
   "id": "active-priest",
   "metadata": {},
   "outputs": [
    {
     "name": "stderr",
     "output_type": "stream",
     "text": [
      "INFO:absl:Generating examples for polymer population of size 10\n",
      "INFO:absl:Finished processing 1 examples.\n",
      "INFO:absl:Finished processing 2 examples.\n",
      "INFO:absl:Finished processing 3 examples.\n",
      "INFO:absl:Finished processing 4 examples.\n",
      "INFO:absl:Finished processing 5 examples.\n",
      "INFO:absl:Finished processing 6 examples.\n",
      "INFO:absl:Finished processing 7 examples.\n",
      "INFO:absl:Finished processing 8 examples.\n",
      "INFO:absl:Finished processing 9 examples.\n",
      "INFO:absl:Finished processing 10 examples.\n",
      "INFO:absl:Finished generating examples, writing to disk.\n"
     ]
    }
   ],
   "source": [
    "\n",
    "train_dataset_path = datagen.compile_dataset_for_population(\n",
    "    subkey, train_population)\n"
   ]
  },
  {
   "cell_type": "code",
   "execution_count": 33,
   "id": "activated-heaven",
   "metadata": {},
   "outputs": [
    {
     "name": "stdout",
     "output_type": "stream",
     "text": [
      "File /tmp/tmp_rd58zz7 uploaded to flatland-vsmall/0.0.1/train/data.pkl.\n"
     ]
    }
   ],
   "source": [
    "\n",
    "train_destination_path = get_destination_blob_path(\n",
    "    filename=\"data.pkl\",\n",
    "    test_train_validation=\"train\",\n",
    "    dataset_name=dataset_name,\n",
    "    dataset_version=dataset_version)\n",
    "\n",
    "upload_blob(bucket_name=bucket_name,\n",
    "            source_file_name=train_dataset_path,\n",
    "            destination_blob_name=train_destination_path)\n"
   ]
  },
  {
   "cell_type": "markdown",
   "id": "qualified-permit",
   "metadata": {},
   "source": [
    "#### Evolve the test population\n",
    "\n",
    "For now, evolve a single test polymer population. This will be analagous to the problem of inferring the structure of a polymer that is evolutionarily distant from any we have seen before.\n",
    "\n",
    "In some sense, this kind of generalization may not be necessary - as solvers may do well to just memmorize solutions to the kinds of structures that are known to occur in nature. One way to interpret recent success using evolutionary information for folding is that it does exactly this - cues solvers regarding how to re-use previously-accumulated knowledge about how certain subsequences fold. \n",
    "\n",
    "The benefit of such a test would be regarding completely novel polymers that are not homologous to anything currently known to occur in nature. Or at least which arise from a anciently-diverged part of the evolutionary tree from the one our model was trained on.\n",
    "\n",
    "It would be feasible to construct a test set sharing a closer evolutionary history with the training populations by selecting polymers to hold out from these to use in testing - sharing alignments across both.\n"
   ]
  },
  {
   "cell_type": "code",
   "execution_count": 15,
   "id": "continuing-independence",
   "metadata": {},
   "outputs": [
    {
     "name": "stdout",
     "output_type": "stream",
     "text": [
      "Current average fitness: 0.20999996\n"
     ]
    }
   ],
   "source": [
    "\n",
    "key, subkey = random.split(key)\n",
    "_, _, test_population = evolve(key)\n"
   ]
  },
  {
   "cell_type": "code",
   "execution_count": 16,
   "id": "brilliant-longer",
   "metadata": {},
   "outputs": [
    {
     "name": "stderr",
     "output_type": "stream",
     "text": [
      "INFO:absl:Generating examples for polymer population of size 10\n",
      "INFO:absl:Finished processing 1 examples.\n",
      "INFO:absl:Finished processing 2 examples.\n",
      "INFO:absl:Finished processing 3 examples.\n",
      "INFO:absl:Finished processing 4 examples.\n",
      "INFO:absl:Finished processing 5 examples.\n",
      "INFO:absl:Finished processing 6 examples.\n",
      "INFO:absl:Finished processing 7 examples.\n",
      "INFO:absl:Finished processing 8 examples.\n",
      "INFO:absl:Finished processing 9 examples.\n",
      "INFO:absl:Finished processing 10 examples.\n",
      "INFO:absl:Finished generating examples, writing to disk.\n"
     ]
    }
   ],
   "source": [
    "\n",
    "test_dataset_path = datagen.compile_dataset_for_population(\n",
    "    subkey, test_population)\n"
   ]
  },
  {
   "cell_type": "code",
   "execution_count": 36,
   "id": "brazilian-caribbean",
   "metadata": {},
   "outputs": [
    {
     "name": "stdout",
     "output_type": "stream",
     "text": [
      "File /tmp/tmp_9x8gjn7 uploaded to flatland-vsmall/0.0.1/test/data.pkl.\n"
     ]
    }
   ],
   "source": [
    "\n",
    "test_destination_path = get_destination_blob_path(\n",
    "    filename=\"data.pkl\",\n",
    "    test_train_validation=\"test\",\n",
    "    dataset_name=dataset_name,\n",
    "    dataset_version=dataset_version)\n",
    "\n",
    "upload_blob(bucket_name=bucket_name,\n",
    "            source_file_name=test_dataset_path,\n",
    "            destination_blob_name=test_destination_path)\n"
   ]
  },
  {
   "cell_type": "markdown",
   "id": "south-vintage",
   "metadata": {},
   "source": [
    "#### Evolve the validation population\n",
    "\n",
    "The same for the validation set as for the test set."
   ]
  },
  {
   "cell_type": "code",
   "execution_count": 5,
   "id": "dietary-applicant",
   "metadata": {},
   "outputs": [
    {
     "name": "stdout",
     "output_type": "stream",
     "text": [
      "Current average fitness: 0.48999995\n"
     ]
    }
   ],
   "source": [
    "\n",
    "key, subkey = random.split(key)\n",
    "_, _, validation_population = evolve(key)\n"
   ]
  },
  {
   "cell_type": "code",
   "execution_count": 6,
   "id": "musical-effectiveness",
   "metadata": {},
   "outputs": [
    {
     "name": "stderr",
     "output_type": "stream",
     "text": [
      "INFO:absl:Generating examples for polymer population of size 10\n",
      "/opt/conda/lib/python3.7/site-packages/jax/_src/numpy/lax_numpy.py:2796: UserWarning: Explicitly requested dtype <class 'jax._src.numpy.lax_numpy.int64'> requested in array is not available, and will be truncated to dtype int32. To enable more dtypes, set the jax_enable_x64 configuration option or the JAX_ENABLE_X64 shell environment variable. See https://github.com/google/jax#current-gotchas for more.\n",
      "  lax._check_user_dtype_supported(dtype, \"array\")\n",
      "WARNING:absl:No GPU/TPU found, falling back to CPU. (Set TF_CPP_MIN_LOG_LEVEL=0 and rerun for more info.)\n",
      "/opt/conda/lib/python3.7/site-packages/jax/_src/numpy/lax_numpy.py:1875: UserWarning: Explicitly requested dtype <class 'jax._src.numpy.lax_numpy.float64'> requested in sum is not available, and will be truncated to dtype float32. To enable more dtypes, set the jax_enable_x64 configuration option or the JAX_ENABLE_X64 shell environment variable. See https://github.com/google/jax#current-gotchas for more.\n",
      "  lax._check_user_dtype_supported(dtype, name)\n",
      "INFO:absl:Finished processing 1 examples.\n",
      "INFO:absl:Finished processing 2 examples.\n",
      "INFO:absl:Finished processing 3 examples.\n",
      "INFO:absl:Finished processing 4 examples.\n",
      "INFO:absl:Finished processing 5 examples.\n",
      "INFO:absl:Finished processing 6 examples.\n",
      "INFO:absl:Finished processing 7 examples.\n",
      "INFO:absl:Finished processing 8 examples.\n",
      "INFO:absl:Finished processing 9 examples.\n",
      "INFO:absl:Finished processing 10 examples.\n",
      "INFO:absl:Finished generating examples, writing to disk.\n"
     ]
    }
   ],
   "source": [
    "\n",
    "validation_dataset_path = datagen.compile_dataset_for_population(\n",
    "    subkey, validation_population)\n"
   ]
  },
  {
   "cell_type": "code",
   "execution_count": 39,
   "id": "lucky-parliament",
   "metadata": {},
   "outputs": [
    {
     "name": "stdout",
     "output_type": "stream",
     "text": [
      "File /tmp/tmpukuh5n0o uploaded to flatland-vsmall/0.0.1/validation/data.pkl.\n"
     ]
    }
   ],
   "source": [
    "\n",
    "validation_destination_path = get_destination_blob_path(\n",
    "    filename=\"data.pkl\",\n",
    "    test_train_validation=\"validation\",\n",
    "    dataset_name=dataset_name,\n",
    "    dataset_version=dataset_version)\n",
    "\n",
    "upload_blob(bucket_name=bucket_name,\n",
    "            source_file_name=validation_dataset_path,\n",
    "            destination_blob_name=validation_destination_path)\n"
   ]
  }
 ],
 "metadata": {
  "environment": {
   "name": "common-cpu.mnightly-2021-01-20-debian-10-test",
   "type": "gcloud",
   "uri": "gcr.io/deeplearning-platform-release/base-cpu:mnightly-2021-01-20-debian-10-test"
  },
  "kernelspec": {
   "display_name": "Python [conda env:root] *",
   "language": "python",
   "name": "conda-root-py"
  },
  "language_info": {
   "codemirror_mode": {
    "name": "ipython",
    "version": 3
   },
   "file_extension": ".py",
   "mimetype": "text/x-python",
   "name": "python",
   "nbconvert_exporter": "python",
   "pygments_lexer": "ipython3",
   "version": "3.7.9"
  }
 },
 "nbformat": 4,
 "nbformat_minor": 5
}
