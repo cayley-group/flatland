{
 "cells": [
  {
   "cell_type": "markdown",
   "id": "approved-cable",
   "metadata": {},
   "source": [
    "## Evolutionary optimization with Jax\n",
    "\n",
    "Here we will have fun experimenting with implementing a very simple evolutionary optimization program using Jax that will as a result be able to benefit from acceleration (as well as I guess be differentiated? ;P).\n"
   ]
  },
  {
   "cell_type": "markdown",
   "id": "formed-width",
   "metadata": {},
   "source": [
    "#### Setup and generating sequences"
   ]
  },
  {
   "cell_type": "code",
   "execution_count": 5,
   "id": "favorite-script",
   "metadata": {},
   "outputs": [],
   "source": [
    "import jax.numpy as jnp\n",
    "from jax import random, jit, vmap\n",
    "from matplotlib import pyplot\n",
    "import numpy as np\n",
    "key = random.PRNGKey(1234)"
   ]
  },
  {
   "cell_type": "code",
   "execution_count": 6,
   "id": "monetary-designation",
   "metadata": {},
   "outputs": [],
   "source": [
    "\n",
    "def random_sequence_b(length):\n",
    "    return random.randint(minval=0, maxval=4, shape=(length,), key=key)\n"
   ]
  },
  {
   "cell_type": "code",
   "execution_count": 7,
   "id": "purple-armstrong",
   "metadata": {},
   "outputs": [],
   "source": [
    "\n",
    "def generate_population_a(key, length=10, pop_size=10):\n",
    "    return random.randint(minval=0, maxval=4, shape=(pop_size,length), key=key)\n"
   ]
  },
  {
   "cell_type": "code",
   "execution_count": 8,
   "id": "northern-criminal",
   "metadata": {},
   "outputs": [
    {
     "data": {
      "text/plain": [
       "DeviceArray([[2, 3, 3, 0, 3, 0, 3, 0, 3, 1],\n",
       "             [3, 3, 3, 2, 0, 2, 2, 2, 3, 3],\n",
       "             [3, 2, 0, 0, 2, 0, 3, 2, 3, 2],\n",
       "             [3, 0, 2, 3, 3, 3, 0, 0, 2, 0],\n",
       "             [2, 1, 2, 1, 1, 2, 2, 0, 0, 1],\n",
       "             [0, 0, 0, 1, 1, 2, 3, 2, 0, 2],\n",
       "             [1, 1, 0, 1, 2, 1, 2, 0, 1, 2],\n",
       "             [3, 2, 2, 2, 1, 1, 2, 2, 3, 0],\n",
       "             [0, 1, 0, 3, 0, 1, 0, 3, 1, 0],\n",
       "             [2, 3, 1, 3, 2, 2, 1, 3, 3, 1]], dtype=int32)"
      ]
     },
     "execution_count": 8,
     "metadata": {},
     "output_type": "execute_result"
    }
   ],
   "source": [
    "population = generate_population_a(key=key)\n",
    "population"
   ]
  },
  {
   "cell_type": "code",
   "execution_count": null,
   "id": "subsequent-vitamin",
   "metadata": {},
   "outputs": [],
   "source": []
  },
  {
   "cell_type": "code",
   "execution_count": 69,
   "id": "robust-gibraltar",
   "metadata": {},
   "outputs": [],
   "source": [
    "\n",
    "def generate_population(key, length=10, pop_size=10):\n",
    "    return random.randint(minval=0, maxval=4, shape=(pop_size,length), key=key)\n",
    "\n",
    "def fitness_29(v):\n",
    "    return 1 - jnp.abs(jnp.mean(v) - 2.9)/2.9\n",
    "\n",
    "@jit\n",
    "def batched_fitness_29(population):\n",
    "    return vmap(fitness_29)(population)\n",
    "\n",
    "def mutate_population(key, population, p_mutation=[0.85,0.05,0.05,0.05,0.05]):\n",
    "    mutation = random.choice(\n",
    "        key,\n",
    "        a=jnp.array([0,1,2,3,4]),\n",
    "        shape=population.shape,\n",
    "        p=jnp.array(p_mutation))\n",
    "    return jnp.mod(population + mutation, 4)\n",
    "\n",
    "def resample_population(key, population, fitnesses):\n",
    "    retain_members = random.choice(\n",
    "        key=key,\n",
    "        a=jnp.array([i for i in range(population.shape[0])]),\n",
    "        shape=(population.shape[0],),\n",
    "        p=fitnesses, replace=True)\n",
    "    return jnp.stack([population[i] for i in retain_members])\n"
   ]
  },
  {
   "cell_type": "code",
   "execution_count": 70,
   "id": "damaged-toner",
   "metadata": {},
   "outputs": [],
   "source": [
    "\n",
    "def evolve_with_mutation(fitness_fn,\n",
    "                         keep_full_population_history=False,\n",
    "                         num_generations=100, pop_size=100,\n",
    "                         genome_length=10, report_every=10,\n",
    "                         p_mutation=[0.96,0.01,0.01,0.01,0.01]):\n",
    "\n",
    "    key = random.PRNGKey(1)\n",
    "    p_mutation_base = p_mutation\n",
    "    base_mutation_rate = p_mutation_base[1] # assume it's the same for all four letters of alphabet\n",
    "\n",
    "    fitness_history = np.zeros(shape=(num_generations,))\n",
    "    \n",
    "    population_history = None\n",
    "    if keep_full_population_history:\n",
    "        population_history = np.zeros(shape=(num_generations, pop_size, genome_length))\n",
    "    \n",
    "    population = generate_population(\n",
    "        key=key,\n",
    "        length=genome_length,\n",
    "        pop_size=pop_size)       \n",
    "\n",
    "    for i in range(num_generations):\n",
    "\n",
    "        key, _ = random.split(key)\n",
    "        population = mutate_population(\n",
    "            key, population,\n",
    "            p_mutation=p_mutation\n",
    "        )\n",
    "\n",
    "        if keep_full_population_history:\n",
    "            # Could keep track at any point in this loop, making sure\n",
    "            # at least fitness_history and population_history are in\n",
    "            # sync.\n",
    "            population_history[i] = population\n",
    "\n",
    "        fitnesses = fitness_fn(population)\n",
    "        fitness_history[i] = jnp.mean(fitnesses)\n",
    "        max_fitness = jnp.max(fitnesses)\n",
    "        min_fitness = jnp.min(fitnesses)\n",
    "        epsilon = 0.000000000000001\n",
    "        norm_fitnesses = (fitnesses - min_fitness + epsilon)/(max_fitness - min_fitness + epsilon)\n",
    "\n",
    "        if i % report_every == 0.0:\n",
    "            print(\"Current average fitness: %s\" % jnp.mean(fitnesses))\n",
    "\n",
    "        mutation_rate = base_mutation_rate*(1-jnp.mean(norm_fitnesses)/2)\n",
    "        non_mutation_rate = 1-4*mutation_rate\n",
    "        p_mutation = [non_mutation_rate, mutation_rate, mutation_rate, mutation_rate, mutation_rate]\n",
    "\n",
    "        key, _ = random.split(key)\n",
    "        population = resample_population(\n",
    "            key=key,\n",
    "            population=population,\n",
    "            fitnesses=norm_fitnesses)\n",
    "        \n",
    "    return fitness_history, population_history, population\n"
   ]
  },
  {
   "cell_type": "code",
   "execution_count": 71,
   "id": "precise-certificate",
   "metadata": {},
   "outputs": [
    {
     "name": "stdout",
     "output_type": "stream",
     "text": [
      "Current average fitness: 0.5296552\n",
      "Current average fitness: 0.8934482\n",
      "Current average fitness: 0.89655167\n",
      "Current average fitness: 0.92896545\n",
      "Current average fitness: 1.0\n"
     ]
    }
   ],
   "source": [
    "\n",
    "hist = evolve_with_mutation(fitness_fn=batched_fitness_29,\n",
    "                            num_generations=50, pop_size=100, genome_length=10,\n",
    "                            p_mutation=[0.996,0.001,0.001,0.001,0.001],\n",
    "                            keep_full_population_history=True)\n"
   ]
  },
  {
   "cell_type": "code",
   "execution_count": 72,
   "id": "unable-struggle",
   "metadata": {},
   "outputs": [
    {
     "name": "stderr",
     "output_type": "stream",
     "text": [
      "WARNING:matplotlib.legend:No handles with labels found to put in legend.\n"
     ]
    },
    {
     "data": {
      "image/png": "[encoded data removed]",
      "text/plain": [
       "<Figure size 720x360 with 1 Axes>"
      ]
     },
     "metadata": {
      "needs_background": "light"
     },
     "output_type": "display_data"
    }
   ],
   "source": [
    "\n",
    "f = pyplot.figure() \n",
    "f.set_figwidth(10) \n",
    "f.set_figheight(5)\n",
    "pyplot.plot(hist[0])\n",
    "pyplot.legend()\n",
    "pyplot.show()\n"
   ]
  },
  {
   "cell_type": "code",
   "execution_count": 65,
   "id": "intensive-triumph",
   "metadata": {},
   "outputs": [
    {
     "ename": "AttributeError",
     "evalue": "module 'jax.numpy' has no attribute 'sd'",
     "output_type": "error",
     "traceback": [
      "\u001b[0;31m---------------------------------------------------------------------------\u001b[0m",
      "\u001b[0;31mAttributeError\u001b[0m                            Traceback (most recent call last)",
      "\u001b[0;32m<ipython-input-65-b662b7c0a51d>\u001b[0m in \u001b[0;36m<module>\u001b[0;34m\u001b[0m\n\u001b[0;32m----> 1\u001b[0;31m \u001b[0mjnp\u001b[0m\u001b[0;34m.\u001b[0m\u001b[0msd\u001b[0m\u001b[0;34m(\u001b[0m\u001b[0mhist\u001b[0m\u001b[0;34m[\u001b[0m\u001b[0;36m1\u001b[0m\u001b[0;34m]\u001b[0m\u001b[0;34m[\u001b[0m\u001b[0;36m0\u001b[0m\u001b[0;34m]\u001b[0m\u001b[0;34m)\u001b[0m\u001b[0;34m\u001b[0m\u001b[0;34m\u001b[0m\u001b[0m\n\u001b[0m",
      "\u001b[0;31mAttributeError\u001b[0m: module 'jax.numpy' has no attribute 'sd'"
     ]
    }
   ],
   "source": [
    "\n",
    "jnp.sd(hist[1][0])\n"
   ]
  },
  {
   "cell_type": "markdown",
   "id": "deluxe-superintendent",
   "metadata": {},
   "source": [
    "### Generalize to different-sized alphabets"
   ]
  },
  {
   "cell_type": "code",
   "execution_count": 35,
   "id": "meaningful-haven",
   "metadata": {},
   "outputs": [
    {
     "data": {
      "text/plain": [
       "DeviceArray([0, 1, 2, 3], dtype=int32)"
      ]
     },
     "execution_count": 35,
     "metadata": {},
     "output_type": "execute_result"
    }
   ],
   "source": [
    "import jax.numpy as jnp\n",
    "jnp.array(range(4))"
   ]
  },
  {
   "cell_type": "code",
   "execution_count": 1,
   "id": "imposed-parade",
   "metadata": {},
   "outputs": [
    {
     "name": "stderr",
     "output_type": "stream",
     "text": [
      "WARNING:absl:No GPU/TPU found, falling back to CPU. (Set TF_CPP_MIN_LOG_LEVEL=0 and rerun for more info.)\n"
     ]
    }
   ],
   "source": [
    "\n",
    "import jax.numpy as jnp\n",
    "from jax import random, jit, vmap\n",
    "from matplotlib import pyplot\n",
    "import numpy as np\n",
    "key = random.PRNGKey(1234)\n",
    "\n",
    "def generate_population(key, length=10, pop_size=10):\n",
    "    return random.randint(minval=0, maxval=4, shape=(pop_size,length), key=key)\n",
    "\n",
    "def fitness_mean_value_target(v, target_value=1.0):\n",
    "    return 1 - jnp.abs(jnp.mean(v) - target_value)/target_value\n",
    "\n",
    "@jit\n",
    "def batched_fitness_mean_value_target(population):\n",
    "    return vmap(fitness_mean_value_target)(population)\n",
    "\n",
    "def mutate_population(key, population, mutation_rate=0.15,\n",
    "                      alphabet_size=4):\n",
    "\n",
    "    individual_p_mutation = mutation_rate/alphabet_size\n",
    "    # Lazily double-counts self-transitions as a type of mutation\n",
    "    # in the interest of prototyping\n",
    "    p_no_mutation = (1 - mutation_rate)\n",
    "    mutation_probs = [\n",
    "        individual_p_mutation for _ in range(alphabet_size)\n",
    "    ]\n",
    "    mutation_probs = [p_no_mutation] + mutation_probs\n",
    "\n",
    "    mutation = random.choice(\n",
    "        key,\n",
    "        a=jnp.array(range(alphabet_size + 1)),\n",
    "        shape=population.shape,\n",
    "        p=jnp.array(mutation_probs))\n",
    "\n",
    "    return jnp.mod(population + mutation, alphabet_size)\n",
    "\n",
    "def resample_population(key, population, fitnesses):\n",
    "    retain_members = random.choice(\n",
    "        key=key,\n",
    "        a=jnp.array([i for i in range(population.shape[0])]),\n",
    "        shape=(population.shape[0],),\n",
    "        p=fitnesses, replace=True)\n",
    "    return jnp.stack([population[i] for i in retain_members])\n",
    "\n",
    "def evolve_with_mutation(key,\n",
    "                         fitness_fn,\n",
    "                         keep_full_population_history=False,\n",
    "                         num_generations=100, pop_size=100,\n",
    "                         genome_length=10, report_every=10,\n",
    "                         mutation_rate=0.15,\n",
    "                         alphabet_size=4):\n",
    "\n",
    "    base_mutation_rate = mutation_rate\n",
    "\n",
    "    fitness_history = np.zeros(shape=(num_generations,))\n",
    "    \n",
    "    population_history = None\n",
    "    if keep_full_population_history:\n",
    "        population_history = np.zeros(shape=(num_generations, pop_size, genome_length))\n",
    "    \n",
    "    population = generate_population(\n",
    "        key=key,\n",
    "        length=genome_length,\n",
    "        pop_size=pop_size)       \n",
    "\n",
    "    for i in range(num_generations):\n",
    "\n",
    "        if keep_full_population_history:\n",
    "            # Could keep track at any point in this loop, making sure\n",
    "            # at least fitness_history and population_history are in\n",
    "            # sync.\n",
    "            population_history[i] = population\n",
    "\n",
    "        fitnesses = fitness_fn(population)\n",
    "        fitness_history[i] = jnp.mean(fitnesses)\n",
    "        max_fitness = jnp.max(fitnesses)\n",
    "        min_fitness = jnp.min(fitnesses)\n",
    "        epsilon = 0.000000000000001\n",
    "        norm_fitnesses = (fitnesses - min_fitness + epsilon)/(max_fitness - min_fitness + epsilon)\n",
    "\n",
    "        if i % report_every == 0.0:\n",
    "            print(\"Current average fitness: %s\" % jnp.mean(fitnesses))\n",
    "\n",
    "        key, _ = random.split(key)\n",
    "        population = resample_population(\n",
    "            key=key,\n",
    "            population=population,\n",
    "            fitnesses=norm_fitnesses)\n",
    "\n",
    "        mutation_rate = base_mutation_rate*(1-jnp.mean(norm_fitnesses)/2)\n",
    "\n",
    "        key, _ = random.split(key)\n",
    "        population = mutate_population(\n",
    "            key, population,\n",
    "            mutation_rate=mutation_rate\n",
    "        )\n",
    "\n",
    "    return fitness_history, population_history, population\n"
   ]
  },
  {
   "cell_type": "code",
   "execution_count": 2,
   "id": "bronze-caribbean",
   "metadata": {},
   "outputs": [
    {
     "name": "stdout",
     "output_type": "stream",
     "text": [
      "Current average fitness: 0.50531995\n",
      "Current average fitness: 0.70878005\n",
      "Current average fitness: 0.74928004\n",
      "Current average fitness: 0.75138\n",
      "Current average fitness: 0.73786014\n"
     ]
    }
   ],
   "source": [
    "\n",
    "hist = evolve_with_mutation(fitness_fn=batched_fitness_mean_value_target,\n",
    "                            num_generations=50, pop_size=500, genome_length=100,\n",
    "                            mutation_rate=0.15, alphabet_size=3,\n",
    "                            keep_full_population_history=True,\n",
    "                            key=random.PRNGKey(1))\n"
   ]
  },
  {
   "cell_type": "code",
   "execution_count": 3,
   "id": "ready-fifteen",
   "metadata": {},
   "outputs": [
    {
     "name": "stderr",
     "output_type": "stream",
     "text": [
      "WARNING:matplotlib.legend:No handles with labels found to put in legend.\n"
     ]
    },
    {
     "data": {
      "image/png": "[encoded data removed]",
      "text/plain": [
       "<Figure size 720x360 with 1 Axes>"
      ]
     },
     "metadata": {
      "needs_background": "light"
     },
     "output_type": "display_data"
    }
   ],
   "source": [
    "\n",
    "f = pyplot.figure()\n",
    "f.set_figwidth(10) \n",
    "f.set_figheight(5)\n",
    "pyplot.plot(hist[0])\n",
    "pyplot.legend()\n",
    "pyplot.show()\n"
   ]
  },
  {
   "cell_type": "code",
   "execution_count": 4,
   "id": "horizontal-blind",
   "metadata": {},
   "outputs": [
    {
     "data": {
      "text/plain": [
       "DeviceArray([[0, 3, 0, ..., 2, 0, 0],\n",
       "             [2, 0, 2, ..., 1, 1, 0],\n",
       "             [0, 0, 2, ..., 1, 0, 1],\n",
       "             ...,\n",
       "             [2, 1, 0, ..., 0, 2, 0],\n",
       "             [0, 2, 3, ..., 3, 1, 0],\n",
       "             [3, 0, 3, ..., 3, 0, 0]], dtype=int32)"
      ]
     },
     "execution_count": 4,
     "metadata": {},
     "output_type": "execute_result"
    }
   ],
   "source": [
    "hist[2]"
   ]
  },
  {
   "cell_type": "code",
   "execution_count": null,
   "id": "considered-feedback",
   "metadata": {},
   "outputs": [],
   "source": []
  }
 ],
 "metadata": {
  "environment": {
   "name": "common-cpu.mnightly-2021-01-20-debian-10-test",
   "type": "gcloud",
   "uri": "gcr.io/deeplearning-platform-release/base-cpu:mnightly-2021-01-20-debian-10-test"
  },
  "kernelspec": {
   "display_name": "Python [conda env:root] *",
   "language": "python",
   "name": "conda-root-py"
  },
  "language_info": {
   "codemirror_mode": {
    "name": "ipython",
    "version": 3
   },
   "file_extension": ".py",
   "mimetype": "text/x-python",
   "name": "python",
   "nbconvert_exporter": "python",
   "pygments_lexer": "ipython3",
   "version": "3.7.9"
  }
 },
 "nbformat": 4,
 "nbformat_minor": 5
}
