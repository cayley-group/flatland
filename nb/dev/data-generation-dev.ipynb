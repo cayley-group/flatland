{
 "cells": [
  {
   "cell_type": "markdown",
   "id": "boxed-procedure",
   "metadata": {},
   "source": [
    "# Data Generation with Flatland\n",
    "\n",
    "This notebook begins to outline how training datasets will be generated in Flatland. This notebook will evolve into a documentation of how to use the tool through a more formal and simplified API.\n",
    "\n",
    "### Here's the idea\n",
    "\n",
    "Some modern protein structure prediction approaches are a little bit complicated to implement. That's why it seems useful to have a simulator that can generate data at least of the same structure that researchers seek to use in such systems. Over time, these simulators can be improved progressively to add some minimal level of realism that should be helpful for initial model debugging. This might include for example modifying simulation parameters to enable a model to train effectively then returning to the more complex form once the simpler problem has been solved. Thus we hope to create a much more smooth path to solving the larger problem than is often followed by those seeking to solve it directly.\n",
    "\n",
    "Further, even when training larger systems on real data it will be important that system components remain integrated and both the system and its individual components continue to function correctly. Simple toy test cases are often used for this purpose in software test engineering. But in the case of ML software engineering, sometimes it helps if these are slightly realistic. Even further, we are interested in understanding the potential of various additional sources of data to enhance the performance of structure prediction systems.\n",
    "\n",
    "Below we will evolve a population of polymers using a trivially simple fitness metric and in the course of that retain a \"genetic history\" of the evolved population. Then, we will compute structures for these polymers using Jax MD. For each \"solved\" structure we will compute a pairwise \"residue\" distance matrix and a vector of \"bond\" angles. Lastly, we will simulate a compound-protein interaction experiment again using Jax MD.\n"
   ]
  },
  {
   "cell_type": "markdown",
   "id": "suburban-blind",
   "metadata": {},
   "source": [
    "### Imports"
   ]
  },
  {
   "cell_type": "code",
   "execution_count": null,
   "id": "danish-reporter",
   "metadata": {},
   "outputs": [],
   "source": [
    "# For now, at bottom of notebook"
   ]
  },
  {
   "cell_type": "markdown",
   "id": "agricultural-practitioner",
   "metadata": {},
   "source": [
    "### Configuration"
   ]
  },
  {
   "cell_type": "code",
   "execution_count": 4,
   "id": "lovely-configuration",
   "metadata": {},
   "outputs": [],
   "source": [
    "\n",
    "alphabet_size = 3\n",
    "population_size = 500\n",
    "genome_length = 10\n",
    "mutation_rate = 0.15\n",
    "num_generations = 50\n",
    "\n",
    "dimension = 2\n",
    "box_size = 6.8\n",
    "\n",
    "num_water_particles = 100\n"
   ]
  },
  {
   "cell_type": "markdown",
   "id": "descending-great",
   "metadata": {},
   "source": [
    "### Input\n",
    "\n",
    "The input to this will be a vector specifying which species of particle occur in what order in our polymer, such as the following. I'm so curious how these might fold up and potentially interact!"
   ]
  },
  {
   "cell_type": "code",
   "execution_count": 5,
   "id": "optical-canyon",
   "metadata": {},
   "outputs": [
    {
     "name": "stdout",
     "output_type": "stream",
     "text": [
      "Current average fitness: 0.4998\n",
      "Current average fitness: 0.8773999999999997\n",
      "Current average fitness: 0.877\n",
      "Current average fitness: 0.8784\n",
      "Current average fitness: 0.8719999999999997\n"
     ]
    }
   ],
   "source": [
    "\n",
    "def fitness_mean_value_target(v, target_value=1.0):\n",
    "    return 1 - jnp.abs(jnp.mean(v) - target_value)/target_value\n",
    "\n",
    "@jit\n",
    "def batched_fitness_mean_value_target(population):\n",
    "    return vmap(fitness_mean_value_target)(population)\n",
    "\n",
    "res = evolve_with_mutation(fitness_fn=batched_fitness_mean_value_target,\n",
    "                           num_generations=num_generations,\n",
    "                           pop_size=population_size,\n",
    "                           genome_length=genome_length,\n",
    "                           mutation_rate=mutation_rate,\n",
    "                           alphabet_size=alphabet_size,\n",
    "                           keep_full_population_history=True,\n",
    "                           key=random.PRNGKey(1))\n",
    "\n",
    "fitness, population_history, last_population = res\n"
   ]
  },
  {
   "cell_type": "code",
   "execution_count": 6,
   "id": "normal-russell",
   "metadata": {},
   "outputs": [
    {
     "data": {
      "text/plain": [
       "DeviceArray([[2, 0, 0, 1, 2, 2, 0, 2, 0, 1],\n",
       "             [1, 0, 0, 1, 1, 2, 2, 0, 0, 0],\n",
       "             [1, 0, 2, 0, 1, 0, 2, 2, 0, 2],\n",
       "             [2, 2, 0, 1, 0, 2, 1, 2, 0, 1],\n",
       "             [0, 2, 0, 1, 1, 0, 0, 2, 1, 2],\n",
       "             [2, 1, 0, 0, 2, 1, 2, 1, 1, 2],\n",
       "             [0, 1, 1, 1, 1, 2, 0, 2, 0, 2],\n",
       "             [0, 1, 2, 2, 2, 1, 2, 0, 2, 0],\n",
       "             [1, 1, 1, 0, 0, 2, 2, 0, 2, 2],\n",
       "             [2, 1, 2, 0, 1, 0, 1, 2, 1, 1]], dtype=int64)"
      ]
     },
     "execution_count": 6,
     "metadata": {},
     "output_type": "execute_result"
    }
   ],
   "source": [
    "last_population[0:10]"
   ]
  },
  {
   "cell_type": "code",
   "execution_count": 7,
   "id": "turned-flooring",
   "metadata": {},
   "outputs": [
    {
     "data": {
      "text/plain": [
       "DeviceArray([2, 0, 0, 1, 2, 2, 0, 2, 0, 1], dtype=int64)"
      ]
     },
     "execution_count": 7,
     "metadata": {},
     "output_type": "execute_result"
    }
   ],
   "source": [
    "\n",
    "polymer = last_population[0]\n",
    "polymer_len = len(polymer)\n",
    "polymer\n"
   ]
  },
  {
   "cell_type": "markdown",
   "id": "divided-organizer",
   "metadata": {},
   "source": [
    "\n",
    "### Simulate folding\n",
    "\n",
    "Let's simulate a polymer folding!\n"
   ]
  },
  {
   "cell_type": "markdown",
   "id": "variable-hurricane",
   "metadata": {},
   "source": [
    "Usual Jax MD setup"
   ]
  },
  {
   "cell_type": "code",
   "execution_count": 8,
   "id": "funky-decline",
   "metadata": {},
   "outputs": [],
   "source": [
    "\n",
    "displacement, shift = space.periodic(box_size)\n"
   ]
  },
  {
   "cell_type": "markdown",
   "id": "korean-traffic",
   "metadata": {},
   "source": [
    "Define a species matrix describing how pairs should attract or repel"
   ]
  },
  {
   "cell_type": "code",
   "execution_count": 9,
   "id": "authentic-bride",
   "metadata": {},
   "outputs": [],
   "source": [
    "\n",
    "r0_species_matrix = jnp.array(\n",
    "    [[1.0, 1.0, 0.5 ],\n",
    "     [1.0, 1.0 , 1.0],\n",
    "     [0.5, 1.0 , 1.0 ]]\n",
    ")\n"
   ]
  },
  {
   "cell_type": "markdown",
   "id": "derived-nothing",
   "metadata": {},
   "source": [
    "Provide the evolved polymer sequence as a species parameter to the \"hydrogen bond\" energy function"
   ]
  },
  {
   "cell_type": "code",
   "execution_count": 10,
   "id": "bacterial-halifax",
   "metadata": {},
   "outputs": [],
   "source": [
    "\n",
    "energy_fn = harmonic_morse_pair(displacement, D0=0., alpha=10.0, k=1.0,\n",
    "                                species=polymer, # <======== Here!! ====================\n",
    "                                r0=r0_species_matrix)\n"
   ]
  },
  {
   "cell_type": "markdown",
   "id": "confident-cooper",
   "metadata": {},
   "source": [
    "Compute the initial positions of all of the particles in the polymer"
   ]
  },
  {
   "cell_type": "code",
   "execution_count": 11,
   "id": "conscious-bulgarian",
   "metadata": {},
   "outputs": [
    {
     "data": {
      "text/plain": [
       "DeviceArray([[3.4 , 1.7 ],\n",
       "             [3.4 , 2.04],\n",
       "             [3.4 , 2.38],\n",
       "             [3.4 , 2.72],\n",
       "             [3.4 , 3.06],\n",
       "             [3.4 , 3.4 ],\n",
       "             [3.4 , 3.74],\n",
       "             [3.4 , 4.08],\n",
       "             [3.4 , 4.42],\n",
       "             [3.4 , 4.76]], dtype=float64)"
      ]
     },
     "execution_count": 11,
     "metadata": {},
     "output_type": "execute_result"
    }
   ],
   "source": [
    "\n",
    "R = jnp.array([[box_size/2, box_size/4 + 0.5*i*box_size/polymer_len] for i in range(polymer_len)])\n",
    "R\n"
   ]
  },
  {
   "cell_type": "markdown",
   "id": "placed-gross",
   "metadata": {},
   "source": [
    "Specify that polymer elements should be bonded in the order of the provided sequence and compute initial bond lengths"
   ]
  },
  {
   "cell_type": "code",
   "execution_count": 12,
   "id": "approximate-contest",
   "metadata": {},
   "outputs": [],
   "source": [
    "\n",
    "bonds = jnp.array([[i, i+1] for i in range(polymer_len - 1)], dtype=jnp.int64)\n",
    "\n",
    "lengths = [0]*len(bonds)\n",
    "for i in range(polymer_len - 1):\n",
    "    lengths[i] = R[i+1][1] - R[i][1]\n"
   ]
  },
  {
   "cell_type": "markdown",
   "id": "celtic-floating",
   "metadata": {},
   "source": [
    "This is what that looks like"
   ]
  },
  {
   "cell_type": "raw",
   "id": "sublime-capability",
   "metadata": {},
   "source": [
    "\n",
    "plot_system(R=R, box_size=box_size, species=polymer, bonds=bonds)\n"
   ]
  },
  {
   "cell_type": "markdown",
   "id": "adjusted-dodge",
   "metadata": {},
   "source": [
    "Combine the \"hydrogen\" and \"covalent\" energy functions"
   ]
  },
  {
   "cell_type": "code",
   "execution_count": 13,
   "id": "surgical-floating",
   "metadata": {},
   "outputs": [],
   "source": [
    "\n",
    "bond_energy_fn = bistable_spring_bond(displacement, bonds, r0=lengths)\n",
    "\n",
    "def combined_energy_fn(R):\n",
    "  return energy_fn(R) + 2*bond_energy_fn(R)\n"
   ]
  },
  {
   "cell_type": "markdown",
   "id": "dangerous-symposium",
   "metadata": {},
   "source": [
    "Find a minimum energy using gradient methods with repeated re-starts / perturbations"
   ]
  },
  {
   "cell_type": "code",
   "execution_count": 14,
   "id": "cubic-london",
   "metadata": {},
   "outputs": [
    {
     "name": "stderr",
     "output_type": "stream",
     "text": [
      "WARNING:absl:No GPU/TPU found, falling back to CPU. (Set TF_CPP_MIN_LOG_LEVEL=0 and rerun for more info.)\n"
     ]
    },
    {
     "name": "stdout",
     "output_type": "stream",
     "text": [
      "Running minimization 0\n",
      "Perturbing initial conformation...\n",
      "Minimizing energy...\n",
      "Computing solved energy...\n",
      "Energy for this iteration was -3.4932965928780093\n",
      "Improved lowest energy.\n",
      "Running minimization 1\n",
      "Perturbing initial conformation...\n",
      "Minimizing energy...\n",
      "Computing solved energy...\n",
      "Energy for this iteration was -3.4932965928780093\n",
      "Running minimization 2\n",
      "Perturbing initial conformation...\n",
      "Minimizing energy...\n",
      "Computing solved energy...\n",
      "Energy for this iteration was -2.9222463611154885\n",
      "Running minimization 3\n",
      "Perturbing initial conformation...\n",
      "Minimizing energy...\n",
      "Computing solved energy...\n",
      "Energy for this iteration was -3.4932965928780098\n",
      "Improved lowest energy.\n",
      "Running minimization 4\n",
      "Perturbing initial conformation...\n",
      "Minimizing energy...\n",
      "Computing solved energy...\n",
      "Energy for this iteration was -3.4932965928780093\n",
      "Lowest energy found was -3.4932965928780093\n"
     ]
    },
    {
     "data": {
      "image/png": "[encoded data removed]",
      "text/plain": [
       "<Figure size 432x432 with 1 Axes>"
      ]
     },
     "metadata": {},
     "output_type": "display_data"
    }
   ],
   "source": [
    "\n",
    "key, subkey1, subkey2 = random.split(key, 3)\n",
    "\n",
    "perturb_steps = 1000\n",
    "perturb_kt = 500\n",
    "e_best = None\n",
    "R_best = R\n",
    "minimize_steps = 100000\n",
    "num_rounds = 5\n",
    "solutions = [None for _ in range(num_rounds)]\n",
    "energies = [None for _ in range(num_rounds)]\n",
    "\n",
    "for i in range(num_rounds):\n",
    "    \n",
    "  key, subkey = random.split(key)\n",
    "\n",
    "  print(\"Running minimization %s\" % i)\n",
    "  print(\"Perturbing initial conformation...\")\n",
    "  # Initialize a messy starting structure by simulating 10 steps at 500 kT\n",
    "  R_current, max_force_component = run_brownian(combined_energy_fn,\n",
    "                                                #R_best,\n",
    "                                                R, # <============ Use the initial conformation instead of re-starting\n",
    "                                                shift,\n",
    "                                                key=subkey,\n",
    "                                                num_steps=perturb_steps,\n",
    "                                                kT=perturb_kt)\n",
    "  print(\"Minimizing energy...\")\n",
    "  R_current, max_force_component = run_minimization(combined_energy_fn, R_current, shift, num_steps=minimize_steps)\n",
    "\n",
    "  print(\"Computing solved energy...\")\n",
    "  e = combined_energy_fn(R_current)\n",
    "  print(\"Energy for this iteration was %s\" % e)\n",
    "\n",
    "  if not e_best or e < e_best:\n",
    "    e_best = e\n",
    "    R_best = R_current\n",
    "    print(\"Improved lowest energy.\")\n",
    "\n",
    "  solutions[i] = R_current\n",
    "  energies[i] = e\n",
    "\n",
    "print(\"Lowest energy found was %s\" % e)\n",
    "plot_system(R=R_best, box_size=box_size, species=polymer, bonds=bonds)\n"
   ]
  },
  {
   "cell_type": "markdown",
   "id": "original-credit",
   "metadata": {},
   "source": [
    "### Pairwise distances \n",
    "\n",
    "Given a \"folded\" structure, obtain a matrix of pairwise distances and visualize."
   ]
  },
  {
   "cell_type": "code",
   "execution_count": 16,
   "id": "undefined-registration",
   "metadata": {},
   "outputs": [
    {
     "data": {
      "text/plain": [
       "<matplotlib.image.AxesImage at 0x7fc805903a90>"
      ]
     },
     "execution_count": 16,
     "metadata": {},
     "output_type": "execute_result"
    },
    {
     "data": {
      "image/png": "[encoded data removed]",
      "text/plain": [
       "<Figure size 432x288 with 1 Axes>"
      ]
     },
     "metadata": {
      "needs_background": "light"
     },
     "output_type": "display_data"
    }
   ],
   "source": [
    "\n",
    "import numpy as np\n",
    "\n",
    "def compute_distance_matrix(positions):\n",
    "\n",
    "  distances = np.zeros(shape=(polymer_len, polymer_len))\n",
    "\n",
    "  for i in range(polymer_len):\n",
    "    for j in range(polymer_len):\n",
    "      distances[i][j] = jnp.linalg.norm(positions[i] - positions[j])\n",
    "\n",
    "  return distances\n",
    "\n",
    "d = compute_distance_matrix(R_best)\n",
    "\n",
    "plt.imshow(d)\n"
   ]
  },
  {
   "cell_type": "markdown",
   "id": "lesbian-eagle",
   "metadata": {},
   "source": [
    "### Bond angles\n",
    "\n",
    "Given a \"folded\" structure, obtain a vector of bond angles."
   ]
  },
  {
   "cell_type": "code",
   "execution_count": 18,
   "id": "loving-lotus",
   "metadata": {},
   "outputs": [],
   "source": [
    "\n",
    "def compute_angle(p0: jnp.ndarray, p1: jnp.ndarray, p2: jnp.ndarray) -> jnp.float32:\n",
    "  \"\"\"Compute the angle centered at `p1` between the other two points.\"\"\"\n",
    "\n",
    "  a = p1 - p0\n",
    "  da = np.linalg.norm(a)\n",
    "\n",
    "  b = p1 - p2\n",
    "  db = np.linalg.norm(b)\n",
    "\n",
    "  c = p0 - p2\n",
    "  dc = np.linalg.norm(c)\n",
    "\n",
    "  x = (da**2 + db**2 - dc**2)/(2.0*da*db)\n",
    "\n",
    "  angle = jnp.arccos(x)*180.0/jnp.pi\n",
    "\n",
    "  return min(angle, 360 - angle)\n",
    "\n",
    "\n",
    "p0 = jnp.array([0, 1], dtype=jnp.float32)\n",
    "p1 = jnp.array([0, 0], dtype=jnp.float32)\n",
    "p2 = jnp.array([1, 0], dtype=jnp.float32)\n",
    "\n",
    "assert (90.0 - compute_angle(p0, p1, p2)) < 0.00001\n"
   ]
  },
  {
   "cell_type": "code",
   "execution_count": 19,
   "id": "concrete-advocate",
   "metadata": {},
   "outputs": [
    {
     "name": "stdout",
     "output_type": "stream",
     "text": [
      "[180. 180. 180. 180. 180. 180. 180. 180.]\n"
     ]
    }
   ],
   "source": [
    "\n",
    "def compute_angles_for_structure(positions: jnp.ndarray) -> jnp.ndarray:\n",
    "\n",
    "  angles = np.zeros(shape=(len(positions) - 2,))\n",
    "\n",
    "  for i in range(len(positions) - 2):\n",
    "    angles[i] = compute_angle(positions[i], positions[i + 1], positions[i + 2])\n",
    "\n",
    "  return angles\n",
    "\n",
    "assert (compute_angles_for_structure(jnp.array([[1,0],[0,0],[0,1]])) - jnp.array([90.0])) < 0.000001\n",
    "angles = compute_angles_for_structure(R)\n",
    "assert np.array_equal(angles, jnp.array([180.0 for _ in range(8)]))\n",
    "print(angles)\n"
   ]
  },
  {
   "cell_type": "code",
   "execution_count": 21,
   "id": "indian-halifax",
   "metadata": {},
   "outputs": [
    {
     "data": {
      "text/plain": [
       "array([157.33144163, 178.87700804,  43.9409539 ,  17.32420598,\n",
       "       165.58380656, 171.6196661 , 179.34562477, 168.25388047])"
      ]
     },
     "execution_count": 21,
     "metadata": {},
     "output_type": "execute_result"
    }
   ],
   "source": [
    "compute_angles_for_structure(R_best)"
   ]
  },
  {
   "cell_type": "markdown",
   "id": "needed-genealogy",
   "metadata": {},
   "source": [
    "### Adding water\n",
    "\n",
    "Let's see if adding water and patterns of hydrophobicity can help form more regular structures.\n"
   ]
  },
  {
   "cell_type": "code",
   "execution_count": 22,
   "id": "portable-removal",
   "metadata": {},
   "outputs": [
    {
     "data": {
      "image/png": "[encoded data removed]",
      "text/plain": [
       "<Figure size 432x432 with 1 Axes>"
      ]
     },
     "metadata": {},
     "output_type": "display_data"
    }
   ],
   "source": [
    "\n",
    "def add_water(key, existing_coordinates, existing_species, num_water_particles, box_size, dimension=2):\n",
    "  \"\"\"Add water coordinates and species to an existing system.\"\"\"\n",
    "\n",
    "  # Determine the species index for the additional water\n",
    "  max_species = max(existing_species)\n",
    "  water_species = max_species + 1\n",
    "\n",
    "  # Add and additional species index for each additional water particle\n",
    "  species = jnp.concatenate((existing_species, jnp.array([water_species]*num_water_particles)))\n",
    "\n",
    "  key, split = random.split(key)\n",
    "  water_coords = random.uniform(\n",
    "      key, shape=(num_water_particles, dimension),\n",
    "      minval=0.0, maxval=box_size)\n",
    "\n",
    "  coordinates = jnp.concatenate((existing_coordinates, water_coords))\n",
    "\n",
    "  return jnp.array(coordinates), jnp.array(species)\n",
    "\n",
    "\n",
    "R_solution, species_solution = add_water(\n",
    "    key=key, existing_coordinates=R,\n",
    "    existing_species=polymer,\n",
    "    num_water_particles=num_water_particles,\n",
    "    box_size=box_size,\n",
    "    dimension=dimension)\n",
    "\n",
    "\n",
    "plot_system(R=R_solution, box_size=box_size, species=species_solution, bonds=bonds)\n",
    "\n"
   ]
  },
  {
   "cell_type": "code",
   "execution_count": null,
   "id": "phantom-flavor",
   "metadata": {},
   "outputs": [],
   "source": []
  },
  {
   "cell_type": "code",
   "execution_count": null,
   "id": "fundamental-collectible",
   "metadata": {},
   "outputs": [],
   "source": []
  },
  {
   "cell_type": "code",
   "execution_count": null,
   "id": "purple-cream",
   "metadata": {},
   "outputs": [],
   "source": []
  },
  {
   "cell_type": "markdown",
   "id": "concerned-gather",
   "metadata": {},
   "source": [
    "### Compound-target interactions\n",
    "\n",
    "It's possible that co- or pre-training on compound-protein or protein-protein interaction datasets will further enhance our ability to predict the structure of proteins. Let's simulate the interaction of two different polymers with a range of compounds the visualize these two \"structural spectra\".\n"
   ]
  },
  {
   "cell_type": "code",
   "execution_count": 26,
   "id": "grave-fundamental",
   "metadata": {},
   "outputs": [
    {
     "data": {
      "text/plain": [
       "DeviceArray([2, 0, 0, 1, 2, 2, 0, 2, 0, 1], dtype=int64)"
      ]
     },
     "execution_count": 26,
     "metadata": {},
     "output_type": "execute_result"
    }
   ],
   "source": [
    "\n",
    "# Obtain a polymer sequence from the last population\n",
    "polymer_a = last_population[0]\n",
    "\n",
    "# \n",
    "polymer_a_soln_coords, polymer_a_soln_species = add_water(\n",
    "    key=key, existing_coordinates=R,\n",
    "    existing_species=polymer,\n",
    "    num_water_particles=num_water_particles,\n",
    "    box_size=box_size,\n",
    "    dimension=dimension)\n",
    "\n",
    "polymer_a_structure = fold_polymer(polymer_a)\n"
   ]
  },
  {
   "cell_type": "code",
   "execution_count": 27,
   "id": "fabulous-eagle",
   "metadata": {},
   "outputs": [
    {
     "data": {
      "text/plain": [
       "DeviceArray([1, 0, 0, 1, 1, 2, 2, 0, 0, 0], dtype=int64)"
      ]
     },
     "execution_count": 27,
     "metadata": {},
     "output_type": "execute_result"
    }
   ],
   "source": [
    "polymer_b = last_population[1]\n",
    "polymer_b"
   ]
  },
  {
   "cell_type": "code",
   "execution_count": null,
   "id": "bottom-platinum",
   "metadata": {},
   "outputs": [],
   "source": []
  },
  {
   "cell_type": "code",
   "execution_count": null,
   "id": "african-fellowship",
   "metadata": {},
   "outputs": [],
   "source": []
  },
  {
   "cell_type": "markdown",
   "id": "waiting-legend",
   "metadata": {},
   "source": [
    "## Planned Additions\n",
    "\n",
    "* Adding water and water (anti-)affinities\n",
    "* Ensuring backbone particles stay within reasonable ranges\n",
    "* Compound-target interactions\n"
   ]
  },
  {
   "cell_type": "markdown",
   "id": "south-knife",
   "metadata": {},
   "source": [
    "## Imports"
   ]
  },
  {
   "cell_type": "code",
   "execution_count": 2,
   "id": "looking-throw",
   "metadata": {},
   "outputs": [
    {
     "name": "stderr",
     "output_type": "stream",
     "text": [
      "WARNING:absl:No GPU/TPU found, falling back to CPU. (Set TF_CPP_MIN_LOG_LEVEL=0 and rerun for more info.)\n"
     ]
    }
   ],
   "source": [
    "#@title Imports & Utils\n",
    "!pip install -q git+https://www.github.com/google/jax-md\n",
    "\n",
    "import numpy as onp\n",
    "\n",
    "import jax.numpy as jnp\n",
    "from jax import random\n",
    "from jax import jit, grad, vmap, value_and_grad\n",
    "from jax import lax\n",
    "from jax import ops\n",
    "\n",
    "from jax.config import config\n",
    "config.update(\"jax_enable_x64\", True)\n",
    "\n",
    "from jax_md import space, smap, energy, minimize, quantity, simulate, partition\n",
    "\n",
    "from functools import partial\n",
    "import time\n",
    "\n",
    "f32 = jnp.float32\n",
    "f64 = jnp.float64\n",
    "\n",
    "import matplotlib\n",
    "import matplotlib.pyplot as plt\n",
    "plt.rcParams.update({'font.size': 16})\n",
    "#import seaborn as sns \n",
    "#sns.set_style(style='white')\n",
    "\n",
    "def format_plot(x, y):  \n",
    "  plt.grid(True)\n",
    "  plt.xlabel(x, fontsize=20)\n",
    "  plt.ylabel(y, fontsize=20)\n",
    "  \n",
    "def finalize_plot(shape=(1, 0.7)):\n",
    "  plt.gcf().set_size_inches(\n",
    "    shape[0] * 1.5 * plt.gcf().get_size_inches()[1], \n",
    "    shape[1] * 1.5 * plt.gcf().get_size_inches()[1])\n",
    "  plt.tight_layout()\n",
    "\n",
    "def calculate_bond_data(displacement_or_metric, R, dr_cutoff, species=None):\n",
    "  if( not(species is None)):\n",
    "    assert(False)\n",
    "    \n",
    "  metric = space.map_product(space.canonicalize_displacement_or_metric(displacement))\n",
    "  dr = metric(R,R)\n",
    "\n",
    "  dr_include = jnp.triu(jnp.where(dr<1, 1, 0)) - jnp.eye(R.shape[0],dtype=jnp.int32)\n",
    "  index_list=jnp.dstack(jnp.meshgrid(jnp.arange(N), jnp.arange(N), indexing='ij'))\n",
    "\n",
    "  i_s = jnp.where(dr_include==1, index_list[:,:,0], -1).flatten()\n",
    "  j_s = jnp.where(dr_include==1, index_list[:,:,1], -1).flatten()\n",
    "  ij_s = jnp.transpose(jnp.array([i_s,j_s]))\n",
    "\n",
    "  bonds = ij_s[(ij_s!=jnp.array([-1,-1]))[:,1]]\n",
    "  lengths = dr.flatten()[(ij_s!=jnp.array([-1,-1]))[:,1]]\n",
    "\n",
    "  return bonds, lengths\n",
    "\n",
    "def plot_system(R, box_size, species=None, ms=10, bonds=[]):\n",
    "\n",
    "  R_plt = jnp.array(R)\n",
    "\n",
    "  for b in bonds:\n",
    "    idx0 = b[0]\n",
    "    idx1 = b[1]\n",
    "    coord_a = R_plt[idx0]\n",
    "    coord_b = R_plt[idx1]\n",
    "    plt.plot([coord_a[0], coord_b[0]], [coord_a[1], coord_b[1]], linewidth=4, color=\"lightgrey\")\n",
    "\n",
    "  if(species is None):\n",
    "    plt.plot(R_plt[:, 0], R_plt[:, 1], 'o', markersize=ms)\n",
    "  else:\n",
    "    for ii in range(jnp.amax(species)+1):\n",
    "      Rtemp = R_plt[species==ii]\n",
    "      plt.plot(Rtemp[:, 0], Rtemp[:, 1], 'o', markersize=ms)\n",
    "\n",
    "  plt.xlim([0, box_size])\n",
    "  plt.ylim([0, box_size])\n",
    "  plt.xticks([], [])\n",
    "  plt.yticks([], [])\n",
    "\n",
    "  finalize_plot((1,1))\n",
    "  \n",
    "def setup_periodic_box(box_size):\n",
    "  def displacement_fn(Ra, Rb, **unused_kwargs):\n",
    "    dR = Ra - Rb\n",
    "    return jnp.mod(dR + box_size * f32(0.5), box_size) - f32(0.5) * box_size\n",
    "\n",
    "  def shift_fn(R, dR, **unused_kwargs):\n",
    "    return jnp.mod(R + dR, box_size)\n",
    "\n",
    "  return displacement_fn, shift_fn\n",
    "\n",
    "key = random.PRNGKey(0)\n",
    "\n",
    "def run_minimization(energy_fn, R_init, shift, num_steps=5000):\n",
    "  \"\"\"Minimize the particle conformation with respect to `energy_fn`.\"\"\"\n",
    "\n",
    "  dt_start = 0.001\n",
    "  dt_max   = 0.004\n",
    "\n",
    "  energy_fn = jit(energy_fn)\n",
    "\n",
    "  # Instantiate the optimization initial conditions (just R_init) and optimization step function\n",
    "  # given by the \"fire descent\" algorithm, sounds like gradient descent.\n",
    "  init, apply = minimize.fire_descent(energy_fn, shift, dt_start=dt_start, dt_max=dt_max)\n",
    "\n",
    "  apply = jit(apply)\n",
    "\n",
    "  @jit\n",
    "  def scan_fn(state, i):\n",
    "    return apply(state), 0.\n",
    "\n",
    "  # Why don't we do scan_fn = jit(scan_fn) if that's how we're jitting the other functions?\n",
    "  # And do we need to jit any of the energy_fn and apply functions if we are going to jit\n",
    "  # scan_fn anyway?\n",
    "\n",
    "  # Initialize the state of the system\n",
    "  state = init(R_init)\n",
    "\n",
    "  # Perform num_steps of optimization (through which we could differentiate if we needed to\n",
    "  # for some reason given we're using lax.scan... probably faster to use lax.scan). \n",
    "  state, _ = lax.scan(scan_fn, state, jnp.arange(num_steps))\n",
    "\n",
    "  return state.position, jnp.amax(jnp.abs(-grad(energy_fn)(state.position)))\n",
    "\n",
    "\n",
    "def harmonic_morse(dr, D0=5.0, alpha=5.0, r0=1.0, k=50.0, **kwargs):\n",
    "  \"\"\"Compute the harmonic morse potential for a pair of particles at distance `dr`.\"\"\"\n",
    "  U = jnp.where(dr < r0, \n",
    "               0.5 * k * (dr - r0)**2 - D0,\n",
    "               D0 * (jnp.exp(-2. * alpha * (dr - r0)) - 2. * jnp.exp(-alpha * (dr - r0)))\n",
    "               )\n",
    "  return jnp.array(U, dtype=dr.dtype)\n",
    "\n",
    "def harmonic_morse_pair(\n",
    "    displacement_or_metric, species=None, D0=5.0, alpha=10.0, r0=1.0, k=50.0):\n",
    "  \"\"\"The harmonic morse function over all pairs of particles in a system.\"\"\"\n",
    "\n",
    "  # Initialize various parameters of the harmonic morse function\n",
    "  D0 = jnp.array(D0, dtype=f32)\n",
    "  alpha = jnp.array(alpha, dtype=f32)\n",
    "  r0 = jnp.array(r0, dtype=f32)\n",
    "  k = jnp.array(k, dtype=f32)\n",
    "\n",
    "  # Pass the harmonic morse function defined above along with its parameters and a\n",
    "  # displacement/metric function.\n",
    "  return smap.pair(\n",
    "      harmonic_morse,\n",
    "      space.canonicalize_displacement_or_metric(displacement_or_metric),\n",
    "      species=species,\n",
    "      D0=D0,\n",
    "      alpha=alpha,\n",
    "      r0=r0,\n",
    "      k=k)\n",
    "\n",
    "def bistable_spring(dr, r0=1.0, a2=2, a4=5, **kwargs):\n",
    "  return (a4*(dr-r0)**4 - a2*(dr-r0)**2)\n",
    "\n",
    "def bistable_spring_bond(\n",
    "    displacement_or_metric, bond, bond_type=None, r0=1, a2=2, a4=5):\n",
    "  \"\"\"Convenience wrapper to compute energy of particles bonded by springs.\"\"\"\n",
    "  r0 = jnp.array(r0, f32)\n",
    "  a2 = jnp.array(a2, f32)\n",
    "  a4 = jnp.array(a4, f32)\n",
    "  return smap.bond(\n",
    "    bistable_spring,\n",
    "    space.canonicalize_displacement_or_metric(displacement_or_metric),\n",
    "    bond,\n",
    "    bond_type,\n",
    "    r0=r0,\n",
    "    a2=a2,\n",
    "    a4=a4)\n",
    "\n",
    "def run_brownian(energy_fn, R_init, shift, key, num_steps, kT):\n",
    "\n",
    "  init, apply = simulate.brownian(energy_fn, shift, dt=0.00001, kT=kT, gamma=0.1)\n",
    "\n",
    "  apply = jit(apply)\n",
    "\n",
    "  @jit\n",
    "  def scan_fn(state, current_step):\n",
    "    # Dynamically pass r0 to apply, which passes it on to energy_fn\n",
    "    return apply(state), 0\n",
    "\n",
    "  key, split = random.split(key)\n",
    "  state = init(split, R_init)\n",
    "\n",
    "  state, _ = lax.scan(scan_fn, state, jnp.arange(num_steps))\n",
    "\n",
    "  return state.position, jnp.amax(jnp.abs(-grad(energy_fn)(state.position)))\n"
   ]
  },
  {
   "cell_type": "code",
   "execution_count": 3,
   "id": "valid-repository",
   "metadata": {},
   "outputs": [],
   "source": [
    "\n",
    "import jax.numpy as jnp\n",
    "from jax import random, jit, vmap\n",
    "from matplotlib import pyplot\n",
    "import numpy as np\n",
    "key = random.PRNGKey(1234)\n",
    "\n",
    "def generate_population(key, length=10, pop_size=10):\n",
    "    return random.randint(minval=0, maxval=4, shape=(pop_size,length), key=key)\n",
    "\n",
    "def fitness_mean_value_target(v, target_value=1.0):\n",
    "    return 1 - jnp.abs(jnp.mean(v) - target_value)/target_value\n",
    "\n",
    "@jit\n",
    "def batched_fitness_mean_value_target(population):\n",
    "    return vmap(fitness_mean_value_target)(population)\n",
    "\n",
    "def mutate_population(key, population, mutation_rate=0.15,\n",
    "                      alphabet_size=4):\n",
    "\n",
    "    individual_p_mutation = mutation_rate/alphabet_size\n",
    "    # Lazily double-counts self-transitions as a type of mutation\n",
    "    # in the interest of prototyping\n",
    "    p_no_mutation = (1 - mutation_rate)\n",
    "    mutation_probs = [\n",
    "        individual_p_mutation for _ in range(alphabet_size)\n",
    "    ]\n",
    "    mutation_probs = [p_no_mutation] + mutation_probs\n",
    "\n",
    "    mutation = random.choice(\n",
    "        key,\n",
    "        a=jnp.array(range(alphabet_size + 1)),\n",
    "        shape=population.shape,\n",
    "        p=jnp.array(mutation_probs))\n",
    "\n",
    "    return jnp.mod(population + mutation, alphabet_size - 1)\n",
    "\n",
    "def resample_population(key, population, fitnesses):\n",
    "    retain_members = random.choice(\n",
    "        key=key,\n",
    "        a=jnp.array([i for i in range(population.shape[0])]),\n",
    "        shape=(population.shape[0],),\n",
    "        p=fitnesses, replace=True)\n",
    "    return jnp.stack([population[i] for i in retain_members])\n",
    "\n",
    "def evolve_with_mutation(key,\n",
    "                         fitness_fn,\n",
    "                         keep_full_population_history=False,\n",
    "                         num_generations=100, pop_size=100,\n",
    "                         genome_length=10, report_every=10,\n",
    "                         mutation_rate=0.15,\n",
    "                         alphabet_size=4):\n",
    "\n",
    "    base_mutation_rate = mutation_rate\n",
    "\n",
    "    fitness_history = np.zeros(shape=(num_generations,))\n",
    "    \n",
    "    population_history = None\n",
    "    if keep_full_population_history:\n",
    "        population_history = np.zeros(shape=(num_generations, pop_size, genome_length))\n",
    "    \n",
    "    population = generate_population(\n",
    "        key=key,\n",
    "        length=genome_length,\n",
    "        pop_size=pop_size)       \n",
    "\n",
    "    for i in range(num_generations):\n",
    "\n",
    "        if keep_full_population_history:\n",
    "            # Could keep track at any point in this loop, making sure\n",
    "            # at least fitness_history and population_history are in\n",
    "            # sync.\n",
    "            population_history[i] = population\n",
    "\n",
    "        fitnesses = fitness_fn(population)\n",
    "        fitness_history[i] = jnp.mean(fitnesses)\n",
    "        max_fitness = jnp.max(fitnesses)\n",
    "        min_fitness = jnp.min(fitnesses)\n",
    "        epsilon = 0.000000000000001\n",
    "        norm_fitnesses = (fitnesses - min_fitness + epsilon)/(max_fitness - min_fitness + epsilon)\n",
    "\n",
    "        if i % report_every == 0.0:\n",
    "            print(\"Current average fitness: %s\" % jnp.mean(fitnesses))\n",
    "\n",
    "        key, _ = random.split(key)\n",
    "        population = resample_population(\n",
    "            key=key,\n",
    "            population=population,\n",
    "            fitnesses=norm_fitnesses)\n",
    "\n",
    "        mutation_rate = base_mutation_rate*(1-jnp.mean(norm_fitnesses)/2)\n",
    "\n",
    "        key, _ = random.split(key)\n",
    "        population = mutate_population(\n",
    "            key, population,\n",
    "            mutation_rate=mutation_rate\n",
    "        )\n",
    "\n",
    "    return fitness_history, population_history, population\n"
   ]
  },
  {
   "cell_type": "code",
   "execution_count": null,
   "id": "trying-institute",
   "metadata": {},
   "outputs": [],
   "source": []
  }
 ],
 "metadata": {
  "environment": {
   "name": "common-cpu.mnightly-2021-01-20-debian-10-test",
   "type": "gcloud",
   "uri": "gcr.io/deeplearning-platform-release/base-cpu:mnightly-2021-01-20-debian-10-test"
  },
  "kernelspec": {
   "display_name": "Python [conda env:root] *",
   "language": "python",
   "name": "conda-root-py"
  },
  "language_info": {
   "codemirror_mode": {
    "name": "ipython",
    "version": 3
   },
   "file_extension": ".py",
   "mimetype": "text/x-python",
   "name": "python",
   "nbconvert_exporter": "python",
   "pygments_lexer": "ipython3",
   "version": "3.7.9"
  }
 },
 "nbformat": 4,
 "nbformat_minor": 5
}
